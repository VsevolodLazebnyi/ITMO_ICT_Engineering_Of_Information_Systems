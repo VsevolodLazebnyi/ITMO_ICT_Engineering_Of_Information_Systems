{
 "cells": [
  {
   "cell_type": "code",
   "outputs": [
    {
     "name": "stdout",
     "output_type": "stream",
     "text": [
      "Requirement already satisfied: pandas in ./.venv/lib/python3.12/site-packages (2.3.0)\r\n",
      "Requirement already satisfied: numpy>=1.26.0 in ./.venv/lib/python3.12/site-packages (from pandas) (2.3.0)\r\n",
      "Requirement already satisfied: python-dateutil>=2.8.2 in ./.venv/lib/python3.12/site-packages (from pandas) (2.9.0.post0)\r\n",
      "Requirement already satisfied: pytz>=2020.1 in ./.venv/lib/python3.12/site-packages (from pandas) (2025.2)\r\n",
      "Requirement already satisfied: tzdata>=2022.7 in ./.venv/lib/python3.12/site-packages (from pandas) (2025.2)\r\n",
      "Requirement already satisfied: six>=1.5 in ./.venv/lib/python3.12/site-packages (from python-dateutil>=2.8.2->pandas) (1.17.0)\r\n",
      "\r\n",
      "\u001B[1m[\u001B[0m\u001B[34;49mnotice\u001B[0m\u001B[1;39;49m]\u001B[0m\u001B[39;49m A new release of pip is available: \u001B[0m\u001B[31;49m23.2.1\u001B[0m\u001B[39;49m -> \u001B[0m\u001B[32;49m25.1.1\u001B[0m\r\n",
      "\u001B[1m[\u001B[0m\u001B[34;49mnotice\u001B[0m\u001B[1;39;49m]\u001B[0m\u001B[39;49m To update, run: \u001B[0m\u001B[32;49mpip install --upgrade pip\u001B[0m\r\n",
      "Requirement already satisfied: numpy in ./.venv/lib/python3.12/site-packages (2.3.0)\r\n",
      "\r\n",
      "\u001B[1m[\u001B[0m\u001B[34;49mnotice\u001B[0m\u001B[1;39;49m]\u001B[0m\u001B[39;49m A new release of pip is available: \u001B[0m\u001B[31;49m23.2.1\u001B[0m\u001B[39;49m -> \u001B[0m\u001B[32;49m25.1.1\u001B[0m\r\n",
      "\u001B[1m[\u001B[0m\u001B[34;49mnotice\u001B[0m\u001B[1;39;49m]\u001B[0m\u001B[39;49m To update, run: \u001B[0m\u001B[32;49mpip install --upgrade pip\u001B[0m\r\n",
      "Collecting scikit-learn\r\n",
      "  Obtaining dependency information for scikit-learn from https://files.pythonhosted.org/packages/58/d8/f3249232fa79a70cb40595282813e61453c1e76da3e1a44b77a63dd8d0cb/scikit_learn-1.7.0-cp312-cp312-macosx_12_0_arm64.whl.metadata\r\n",
      "  Using cached scikit_learn-1.7.0-cp312-cp312-macosx_12_0_arm64.whl.metadata (31 kB)\r\n",
      "Requirement already satisfied: numpy>=1.22.0 in ./.venv/lib/python3.12/site-packages (from scikit-learn) (2.3.0)\r\n",
      "Collecting scipy>=1.8.0 (from scikit-learn)\r\n",
      "  Obtaining dependency information for scipy>=1.8.0 from https://files.pythonhosted.org/packages/07/9c/0ddb0d0abdabe0d181c1793db51f02cd59e4901da6f9f7848e1f96759f0d/scipy-1.15.3-cp312-cp312-macosx_14_0_arm64.whl.metadata\r\n",
      "  Using cached scipy-1.15.3-cp312-cp312-macosx_14_0_arm64.whl.metadata (61 kB)\r\n",
      "Collecting joblib>=1.2.0 (from scikit-learn)\r\n",
      "  Obtaining dependency information for joblib>=1.2.0 from https://files.pythonhosted.org/packages/7d/4f/1195bbac8e0c2acc5f740661631d8d750dc38d4a32b23ee5df3cde6f4e0d/joblib-1.5.1-py3-none-any.whl.metadata\r\n",
      "  Using cached joblib-1.5.1-py3-none-any.whl.metadata (5.6 kB)\r\n",
      "Collecting threadpoolctl>=3.1.0 (from scikit-learn)\r\n",
      "  Obtaining dependency information for threadpoolctl>=3.1.0 from https://files.pythonhosted.org/packages/32/d5/f9a850d79b0851d1d4ef6456097579a9005b31fea68726a4ae5f2d82ddd9/threadpoolctl-3.6.0-py3-none-any.whl.metadata\r\n",
      "  Using cached threadpoolctl-3.6.0-py3-none-any.whl.metadata (13 kB)\r\n",
      "Using cached scikit_learn-1.7.0-cp312-cp312-macosx_12_0_arm64.whl (10.7 MB)\r\n",
      "Using cached joblib-1.5.1-py3-none-any.whl (307 kB)\r\n",
      "Using cached scipy-1.15.3-cp312-cp312-macosx_14_0_arm64.whl (22.4 MB)\r\n",
      "Using cached threadpoolctl-3.6.0-py3-none-any.whl (18 kB)\r\n",
      "Installing collected packages: threadpoolctl, scipy, joblib, scikit-learn\r\n",
      "Successfully installed joblib-1.5.1 scikit-learn-1.7.0 scipy-1.15.3 threadpoolctl-3.6.0\r\n",
      "\r\n",
      "\u001B[1m[\u001B[0m\u001B[34;49mnotice\u001B[0m\u001B[1;39;49m]\u001B[0m\u001B[39;49m A new release of pip is available: \u001B[0m\u001B[31;49m23.2.1\u001B[0m\u001B[39;49m -> \u001B[0m\u001B[32;49m25.1.1\u001B[0m\r\n",
      "\u001B[1m[\u001B[0m\u001B[34;49mnotice\u001B[0m\u001B[1;39;49m]\u001B[0m\u001B[39;49m To update, run: \u001B[0m\u001B[32;49mpip install --upgrade pip\u001B[0m\r\n"
     ]
    }
   ],
   "source": [
    "!pip install pandas\n",
    "!pip install numpy\n",
    "!pip install scikit-learn"
   ],
   "metadata": {
    "collapsed": false,
    "ExecuteTime": {
     "end_time": "2025-06-10T14:16:40.040832Z",
     "start_time": "2025-06-10T14:16:33.469520Z"
    }
   },
   "id": "a6c37b786675bfd1",
   "execution_count": 6
  },
  {
   "cell_type": "code",
   "execution_count": 2,
   "id": "initial_id",
   "metadata": {
    "collapsed": true,
    "ExecuteTime": {
     "end_time": "2025-06-10T14:31:55.974479Z",
     "start_time": "2025-06-10T14:31:55.230572Z"
    }
   },
   "outputs": [
    {
     "name": "stderr",
     "output_type": "stream",
     "text": [
      "/var/folders/7r/pnhwy0957_b569dd57vr9nqw0000gn/T/ipykernel_6740/2285547660.py:51: ParserWarning: Skipping line 1710: expected 29 fields, saw 30\n",
      "Skipping line 1861: expected 29 fields, saw 30\n",
      "Skipping line 1862: expected 29 fields, saw 30\n",
      "Skipping line 2069: expected 29 fields, saw 30\n",
      "Skipping line 2320: expected 29 fields, saw 35\n",
      "Skipping line 2333: expected 29 fields, saw 31\n",
      "Skipping line 2334: expected 29 fields, saw 30\n",
      "Skipping line 2771: expected 29 fields, saw 32\n",
      "Skipping line 2772: expected 29 fields, saw 32\n",
      "Skipping line 2773: expected 29 fields, saw 32\n",
      "Skipping line 2774: expected 29 fields, saw 32\n",
      "Skipping line 2775: expected 29 fields, saw 32\n",
      "\n",
      "  df = pd.read_csv(file_path, encoding='latin1', on_bad_lines='warn')\n"
     ]
    }
   ],
   "source": [
    "import pandas as pd\n",
    "import numpy as np\n",
    "from sklearn.pipeline import make_pipeline\n",
    "from sklearn.preprocessing import PolynomialFeatures\n",
    "from sklearn.linear_model import LinearRegression\n",
    "\n",
    "def fill_na_neighbors(df_subset, degree=2):\n",
    "    df_filled = df_subset.copy()\n",
    "    years = np.array([int(col) for col in df_filled.columns])\n",
    "    dtypes = {col: df_filled[col].dtype for col in df_filled.columns}\n",
    "\n",
    "    for idx, row in df_filled.iterrows():\n",
    "        vals = row.values\n",
    "        mask = ~pd.isna(vals)\n",
    "\n",
    "        if mask.sum() == 0:\n",
    "            continue\n",
    "        is_integer = np.issubdtype(row.dtype, np.integer)\n",
    "        X_known = years[mask].reshape(-1, 1)\n",
    "        y_known = vals[mask].astype(float)\n",
    "\n",
    "        if mask.sum() > degree + 1:\n",
    "            model = make_pipeline(\n",
    "                PolynomialFeatures(degree),\n",
    "                LinearRegression()\n",
    "            )\n",
    "        else:\n",
    "            model = LinearRegression()\n",
    "\n",
    "        model.fit(X_known, y_known)\n",
    "        preds = model.predict(years.reshape(-1, 1))\n",
    "\n",
    "        if not is_integer:\n",
    "            new_vals = np.where(~mask, preds, vals)\n",
    "        else:\n",
    "            new_vals = np.where(~mask, np.round(preds).astype(int), vals)\n",
    "            new_vals = np.clip(new_vals, a_min=0, a_max=None)\n",
    "\n",
    "        for i, col in enumerate(df_filled.columns):\n",
    "            df_filled.at[idx, col] = dtypes[col].type(new_vals[i])\n",
    "\n",
    "    return df_filled\n",
    "\n",
    "def clean_year_col(col_name):\n",
    "    if '[' in col_name and 'YR' in col_name:\n",
    "        return col_name.split(' ')[0].strip()\n",
    "    return col_name\n",
    "\n",
    "\n",
    "file_path = \"/Users/ekaterinamakhotkina/PycharmProjects/pythonProject8/f4dc79c5-2efc-4406-957a-e8dc7fc523fc_Series - Metadata.csv\"\n",
    "df = pd.read_csv(file_path, encoding='latin1', on_bad_lines='warn')\n",
    "\n",
    "df = df.drop_duplicates()\n",
    "\n",
    "str_cols = df.select_dtypes(include='object').columns\n",
    "df[str_cols] = df[str_cols].apply(lambda col: col.str.strip())\n",
    "\n",
    "df = df.loc[:, df.isnull().mean() < 0.5]\n",
    "\n",
    "for col in df.columns:\n",
    "    if df[col].dtype == 'object':\n",
    "        df[col] = df[col].fillna('')\n",
    "\n",
    "for col in df.columns:\n",
    "    if np.issubdtype(df[col].dtype, np.number):\n",
    "        df[col] = df[col].fillna(df[col].median())\n",
    "\n",
    "df.columns = [clean_year_col(col) for col in df.columns]\n",
    "\n",
    "\n",
    "year_cols = [col for col in df.columns if col.isdigit()]\n",
    "\n",
    "invalid_values = ['..', '-', 'N/A', 'NA', 'n/a', 'na', '']\n",
    "for col in year_cols:\n",
    "    df[col] = df[col].replace(invalid_values, np.nan)\n",
    "\n",
    "df[year_cols] = df[year_cols].apply(pd.to_numeric, errors='coerce')\n",
    "\n",
    "if year_cols:\n",
    "    df_years_filled = fill_na_neighbors(df[year_cols])\n",
    "    df[year_cols] = df_years_filled\n",
    "    \n",
    "df = df.dropna()\n",
    "\n",
    "str_cols = df.select_dtypes(include='object').columns\n",
    "df = df.loc[~(df[str_cols] == '').all(axis=1)]\n",
    "\n",
    "\n",
    "df.to_csv(\"cleaned_metadata_2.csv\", index=False)"
   ]
  },
  {
   "cell_type": "code",
   "outputs": [
    {
     "name": "stdout",
     "output_type": "stream",
     "text": [
      "<class 'pandas.core.frame.DataFrame'>\n",
      "RangeIndex: 1262 entries, 0 to 1261\n",
      "Data columns (total 22 columns):\n",
      " #   Column        Non-Null Count  Dtype  \n",
      "---  ------        --------------  -----  \n",
      " 0   Country Name  1262 non-null   object \n",
      " 1   Country Code  1262 non-null   object \n",
      " 2   Series Name   1262 non-null   object \n",
      " 3   Series Code   1218 non-null   object \n",
      " 4   2000          1262 non-null   float64\n",
      " 5   2001          1262 non-null   float64\n",
      " 6   2002          1262 non-null   float64\n",
      " 7   2003          1262 non-null   float64\n",
      " 8   2004          1262 non-null   float64\n",
      " 9   2005          1262 non-null   float64\n",
      " 10  2006          1262 non-null   float64\n",
      " 11  2008          1262 non-null   float64\n",
      " 12  2009          1262 non-null   float64\n",
      " 13  2010          1262 non-null   float64\n",
      " 14  2011          1262 non-null   float64\n",
      " 15  2012          1262 non-null   float64\n",
      " 16  2013          1262 non-null   float64\n",
      " 17  2014          1262 non-null   float64\n",
      " 18  2015          1262 non-null   float64\n",
      " 19  2017          1262 non-null   float64\n",
      " 20  2018          1262 non-null   float64\n",
      " 21  2019          1262 non-null   float64\n",
      "dtypes: float64(18), object(4)\n",
      "memory usage: 217.0+ KB\n"
     ]
    }
   ],
   "source": [
    "df_cleaned=pd.read_csv('/Users/ekaterinamakhotkina/PycharmProjects/pythonProject8/cleaned_metadata_1.csv')\n",
    "df_cleaned.info()"
   ],
   "metadata": {
    "collapsed": false,
    "ExecuteTime": {
     "end_time": "2025-06-10T14:33:08.867904Z",
     "start_time": "2025-06-10T14:33:08.850579Z"
    }
   },
   "id": "efd7322b8e0e1595",
   "execution_count": 4
  },
  {
   "cell_type": "code",
   "outputs": [
    {
     "name": "stdout",
     "output_type": "stream",
     "text": [
      "<class 'pandas.core.frame.DataFrame'>\n",
      "RangeIndex: 1262 entries, 0 to 1261\n",
      "Data columns (total 22 columns):\n",
      " #   Column        Non-Null Count  Dtype  \n",
      "---  ------        --------------  -----  \n",
      " 0   Country Name  1262 non-null   object \n",
      " 1   Country Code  1262 non-null   object \n",
      " 2   Series Name   1262 non-null   object \n",
      " 3   Series Code   1218 non-null   object \n",
      " 4   2000          1262 non-null   float64\n",
      " 5   2001          1262 non-null   float64\n",
      " 6   2002          1262 non-null   float64\n",
      " 7   2003          1262 non-null   float64\n",
      " 8   2004          1262 non-null   float64\n",
      " 9   2005          1262 non-null   float64\n",
      " 10  2006          1262 non-null   float64\n",
      " 11  2008          1262 non-null   float64\n",
      " 12  2009          1262 non-null   float64\n",
      " 13  2010          1262 non-null   float64\n",
      " 14  2011          1262 non-null   float64\n",
      " 15  2012          1262 non-null   float64\n",
      " 16  2013          1262 non-null   float64\n",
      " 17  2014          1262 non-null   float64\n",
      " 18  2015          1262 non-null   float64\n",
      " 19  2017          1262 non-null   float64\n",
      " 20  2018          1262 non-null   float64\n",
      " 21  2019          1262 non-null   float64\n",
      "dtypes: float64(18), object(4)\n",
      "memory usage: 217.0+ KB\n"
     ]
    }
   ],
   "source": [
    "df_cleaned=pd.read_csv('/Users/ekaterinamakhotkina/PycharmProjects/pythonProject8/cleaned_metadata_2.csv')\n",
    "df_cleaned.info()"
   ],
   "metadata": {
    "collapsed": false,
    "ExecuteTime": {
     "end_time": "2025-06-10T14:32:55.590683Z",
     "start_time": "2025-06-10T14:32:55.550458Z"
    }
   },
   "id": "e51709f4f4c3a7f6",
   "execution_count": 3
  },
  {
   "cell_type": "code",
   "outputs": [
    {
     "data": {
      "text/plain": "            Country Name Country Code  \\\n0     Russian Federation          RUS   \n1     Russian Federation          RUS   \n2     Russian Federation          RUS   \n3     Russian Federation          RUS   \n4     Russian Federation          RUS   \n...                  ...          ...   \n1257      NV.SRV.TOTL.KD    CC BY-4.0   \n1258      NV.SRV.EMPL.KD    CC BY-4.0   \n1259   EN.GHG.TOT.ZG.AR5    CC BY-4.0   \n1260   ER.GDP.FWTL.M3.KD    CC BY-4.0   \n1261         FP.WPI.TOTL    CC BY-4.0   \n\n                                            Series Name        Series Code  \\\n0     Access to clean fuels and technologies for coo...     EG.CFT.ACCS.ZS   \n1     Access to clean fuels and technologies for coo...  EG.CFT.ACCS.RU.ZS   \n2     Access to clean fuels and technologies for coo...  EG.CFT.ACCS.UR.ZS   \n3               Access to electricity (% of population)     EG.ELC.ACCS.ZS   \n4     Access to electricity, rural (% of rural popul...  EG.ELC.ACCS.RU.ZS   \n...                                                 ...                ...   \n1257          Services, value added (constant 2015 US$)                NaN   \n1258  Services, value added per worker (constant 201...                NaN   \n1259  Total greenhouse gas emissions excluding LULUC...                NaN   \n1260  Water productivity, total (constant 2015 US$ G...                NaN   \n1261                 Wholesale price index (2010 = 100)                NaN   \n\n        2000    2001    2002    2003    2004    2005  ...    2009    2010  \\\n0      100.0    99.9    99.9    99.9    99.9    99.8  ...    99.7    99.6   \n1       99.9    99.8    99.8    99.7    99.7    99.6  ...    99.3    99.3   \n2       99.9    99.9    99.8    99.8    99.7    99.7  ...    99.4    99.4   \n3       97.8    97.9    97.9    97.9    98.0    98.0  ...    98.4    99.3   \n4       96.1    96.4    96.6    96.8    97.0    97.2  ...    98.0   100.0   \n...      ...     ...     ...     ...     ...     ...  ...     ...     ...   \n1257  2015.0  2015.0  2015.0  2015.0  2015.0  2015.0  ...  2015.0  2015.0   \n1258  2015.0  2015.0  2015.0  2015.0  2015.0  2015.0  ...  2015.0  2015.0   \n1259  1990.0  1990.0  1990.0  1990.0  1990.0  1990.0  ...  1990.0  1990.0   \n1260  2015.0  2015.0  2015.0  2015.0  2015.0  2015.0  ...  2015.0  2015.0   \n1261  2010.0  2010.0  2010.0  2010.0  2010.0  2010.0  ...  2010.0  2010.0   \n\n        2011    2012    2013    2014    2015    2017    2018    2019  \n0       99.6    99.5    99.5    99.6    99.5    99.5    99.5    99.5  \n1       99.2    99.1    99.1    99.1    99.1    99.0    99.0    99.0  \n2       99.3    99.3    99.3    99.2    99.3    99.2    99.2    99.2  \n3       99.2   100.0   100.0   100.0    95.5   100.0   100.0    99.8  \n4       99.6   100.0   100.0   100.0    96.6   100.0   100.0   100.0  \n...      ...     ...     ...     ...     ...     ...     ...     ...  \n1257  2015.0  2015.0  2015.0  2015.0  2015.0  2015.0  2015.0  2015.0  \n1258  2015.0  2015.0  2015.0  2015.0  2015.0  2015.0  2015.0  2015.0  \n1259  1990.0  1990.0  1990.0  1990.0  1990.0  1990.0  1990.0  1990.0  \n1260  2015.0  2015.0  2015.0  2015.0  2015.0  2015.0  2015.0  2015.0  \n1261  2010.0  2010.0  2010.0  2010.0  2010.0  2010.0  2010.0  2010.0  \n\n[1262 rows x 22 columns]",
      "text/html": "<div>\n<style scoped>\n    .dataframe tbody tr th:only-of-type {\n        vertical-align: middle;\n    }\n\n    .dataframe tbody tr th {\n        vertical-align: top;\n    }\n\n    .dataframe thead th {\n        text-align: right;\n    }\n</style>\n<table border=\"1\" class=\"dataframe\">\n  <thead>\n    <tr style=\"text-align: right;\">\n      <th></th>\n      <th>Country Name</th>\n      <th>Country Code</th>\n      <th>Series Name</th>\n      <th>Series Code</th>\n      <th>2000</th>\n      <th>2001</th>\n      <th>2002</th>\n      <th>2003</th>\n      <th>2004</th>\n      <th>2005</th>\n      <th>...</th>\n      <th>2009</th>\n      <th>2010</th>\n      <th>2011</th>\n      <th>2012</th>\n      <th>2013</th>\n      <th>2014</th>\n      <th>2015</th>\n      <th>2017</th>\n      <th>2018</th>\n      <th>2019</th>\n    </tr>\n  </thead>\n  <tbody>\n    <tr>\n      <th>0</th>\n      <td>Russian Federation</td>\n      <td>RUS</td>\n      <td>Access to clean fuels and technologies for coo...</td>\n      <td>EG.CFT.ACCS.ZS</td>\n      <td>100.0</td>\n      <td>99.9</td>\n      <td>99.9</td>\n      <td>99.9</td>\n      <td>99.9</td>\n      <td>99.8</td>\n      <td>...</td>\n      <td>99.7</td>\n      <td>99.6</td>\n      <td>99.6</td>\n      <td>99.5</td>\n      <td>99.5</td>\n      <td>99.6</td>\n      <td>99.5</td>\n      <td>99.5</td>\n      <td>99.5</td>\n      <td>99.5</td>\n    </tr>\n    <tr>\n      <th>1</th>\n      <td>Russian Federation</td>\n      <td>RUS</td>\n      <td>Access to clean fuels and technologies for coo...</td>\n      <td>EG.CFT.ACCS.RU.ZS</td>\n      <td>99.9</td>\n      <td>99.8</td>\n      <td>99.8</td>\n      <td>99.7</td>\n      <td>99.7</td>\n      <td>99.6</td>\n      <td>...</td>\n      <td>99.3</td>\n      <td>99.3</td>\n      <td>99.2</td>\n      <td>99.1</td>\n      <td>99.1</td>\n      <td>99.1</td>\n      <td>99.1</td>\n      <td>99.0</td>\n      <td>99.0</td>\n      <td>99.0</td>\n    </tr>\n    <tr>\n      <th>2</th>\n      <td>Russian Federation</td>\n      <td>RUS</td>\n      <td>Access to clean fuels and technologies for coo...</td>\n      <td>EG.CFT.ACCS.UR.ZS</td>\n      <td>99.9</td>\n      <td>99.9</td>\n      <td>99.8</td>\n      <td>99.8</td>\n      <td>99.7</td>\n      <td>99.7</td>\n      <td>...</td>\n      <td>99.4</td>\n      <td>99.4</td>\n      <td>99.3</td>\n      <td>99.3</td>\n      <td>99.3</td>\n      <td>99.2</td>\n      <td>99.3</td>\n      <td>99.2</td>\n      <td>99.2</td>\n      <td>99.2</td>\n    </tr>\n    <tr>\n      <th>3</th>\n      <td>Russian Federation</td>\n      <td>RUS</td>\n      <td>Access to electricity (% of population)</td>\n      <td>EG.ELC.ACCS.ZS</td>\n      <td>97.8</td>\n      <td>97.9</td>\n      <td>97.9</td>\n      <td>97.9</td>\n      <td>98.0</td>\n      <td>98.0</td>\n      <td>...</td>\n      <td>98.4</td>\n      <td>99.3</td>\n      <td>99.2</td>\n      <td>100.0</td>\n      <td>100.0</td>\n      <td>100.0</td>\n      <td>95.5</td>\n      <td>100.0</td>\n      <td>100.0</td>\n      <td>99.8</td>\n    </tr>\n    <tr>\n      <th>4</th>\n      <td>Russian Federation</td>\n      <td>RUS</td>\n      <td>Access to electricity, rural (% of rural popul...</td>\n      <td>EG.ELC.ACCS.RU.ZS</td>\n      <td>96.1</td>\n      <td>96.4</td>\n      <td>96.6</td>\n      <td>96.8</td>\n      <td>97.0</td>\n      <td>97.2</td>\n      <td>...</td>\n      <td>98.0</td>\n      <td>100.0</td>\n      <td>99.6</td>\n      <td>100.0</td>\n      <td>100.0</td>\n      <td>100.0</td>\n      <td>96.6</td>\n      <td>100.0</td>\n      <td>100.0</td>\n      <td>100.0</td>\n    </tr>\n    <tr>\n      <th>...</th>\n      <td>...</td>\n      <td>...</td>\n      <td>...</td>\n      <td>...</td>\n      <td>...</td>\n      <td>...</td>\n      <td>...</td>\n      <td>...</td>\n      <td>...</td>\n      <td>...</td>\n      <td>...</td>\n      <td>...</td>\n      <td>...</td>\n      <td>...</td>\n      <td>...</td>\n      <td>...</td>\n      <td>...</td>\n      <td>...</td>\n      <td>...</td>\n      <td>...</td>\n      <td>...</td>\n    </tr>\n    <tr>\n      <th>1257</th>\n      <td>NV.SRV.TOTL.KD</td>\n      <td>CC BY-4.0</td>\n      <td>Services, value added (constant 2015 US$)</td>\n      <td>NaN</td>\n      <td>2015.0</td>\n      <td>2015.0</td>\n      <td>2015.0</td>\n      <td>2015.0</td>\n      <td>2015.0</td>\n      <td>2015.0</td>\n      <td>...</td>\n      <td>2015.0</td>\n      <td>2015.0</td>\n      <td>2015.0</td>\n      <td>2015.0</td>\n      <td>2015.0</td>\n      <td>2015.0</td>\n      <td>2015.0</td>\n      <td>2015.0</td>\n      <td>2015.0</td>\n      <td>2015.0</td>\n    </tr>\n    <tr>\n      <th>1258</th>\n      <td>NV.SRV.EMPL.KD</td>\n      <td>CC BY-4.0</td>\n      <td>Services, value added per worker (constant 201...</td>\n      <td>NaN</td>\n      <td>2015.0</td>\n      <td>2015.0</td>\n      <td>2015.0</td>\n      <td>2015.0</td>\n      <td>2015.0</td>\n      <td>2015.0</td>\n      <td>...</td>\n      <td>2015.0</td>\n      <td>2015.0</td>\n      <td>2015.0</td>\n      <td>2015.0</td>\n      <td>2015.0</td>\n      <td>2015.0</td>\n      <td>2015.0</td>\n      <td>2015.0</td>\n      <td>2015.0</td>\n      <td>2015.0</td>\n    </tr>\n    <tr>\n      <th>1259</th>\n      <td>EN.GHG.TOT.ZG.AR5</td>\n      <td>CC BY-4.0</td>\n      <td>Total greenhouse gas emissions excluding LULUC...</td>\n      <td>NaN</td>\n      <td>1990.0</td>\n      <td>1990.0</td>\n      <td>1990.0</td>\n      <td>1990.0</td>\n      <td>1990.0</td>\n      <td>1990.0</td>\n      <td>...</td>\n      <td>1990.0</td>\n      <td>1990.0</td>\n      <td>1990.0</td>\n      <td>1990.0</td>\n      <td>1990.0</td>\n      <td>1990.0</td>\n      <td>1990.0</td>\n      <td>1990.0</td>\n      <td>1990.0</td>\n      <td>1990.0</td>\n    </tr>\n    <tr>\n      <th>1260</th>\n      <td>ER.GDP.FWTL.M3.KD</td>\n      <td>CC BY-4.0</td>\n      <td>Water productivity, total (constant 2015 US$ G...</td>\n      <td>NaN</td>\n      <td>2015.0</td>\n      <td>2015.0</td>\n      <td>2015.0</td>\n      <td>2015.0</td>\n      <td>2015.0</td>\n      <td>2015.0</td>\n      <td>...</td>\n      <td>2015.0</td>\n      <td>2015.0</td>\n      <td>2015.0</td>\n      <td>2015.0</td>\n      <td>2015.0</td>\n      <td>2015.0</td>\n      <td>2015.0</td>\n      <td>2015.0</td>\n      <td>2015.0</td>\n      <td>2015.0</td>\n    </tr>\n    <tr>\n      <th>1261</th>\n      <td>FP.WPI.TOTL</td>\n      <td>CC BY-4.0</td>\n      <td>Wholesale price index (2010 = 100)</td>\n      <td>NaN</td>\n      <td>2010.0</td>\n      <td>2010.0</td>\n      <td>2010.0</td>\n      <td>2010.0</td>\n      <td>2010.0</td>\n      <td>2010.0</td>\n      <td>...</td>\n      <td>2010.0</td>\n      <td>2010.0</td>\n      <td>2010.0</td>\n      <td>2010.0</td>\n      <td>2010.0</td>\n      <td>2010.0</td>\n      <td>2010.0</td>\n      <td>2010.0</td>\n      <td>2010.0</td>\n      <td>2010.0</td>\n    </tr>\n  </tbody>\n</table>\n<p>1262 rows × 22 columns</p>\n</div>"
     },
     "execution_count": 7,
     "metadata": {},
     "output_type": "execute_result"
    }
   ],
   "source": [
    "df_cleaned=pd.read_csv('/Users/ekaterinamakhotkina/PycharmProjects/pythonProject8/cleaned_metadata_2.csv')\n",
    "df_cleaned"
   ],
   "metadata": {
    "collapsed": false,
    "ExecuteTime": {
     "end_time": "2025-06-10T14:34:05.126968Z",
     "start_time": "2025-06-10T14:34:05.101619Z"
    }
   },
   "id": "d9d85ba2e425c30d",
   "execution_count": 7
  },
  {
   "cell_type": "code",
   "outputs": [],
   "source": [],
   "metadata": {
    "collapsed": false
   },
   "id": "174abb64467595be"
  }
 ],
 "metadata": {
  "kernelspec": {
   "display_name": "Python 3",
   "language": "python",
   "name": "python3"
  },
  "language_info": {
   "codemirror_mode": {
    "name": "ipython",
    "version": 2
   },
   "file_extension": ".py",
   "mimetype": "text/x-python",
   "name": "python",
   "nbconvert_exporter": "python",
   "pygments_lexer": "ipython2",
   "version": "2.7.6"
  }
 },
 "nbformat": 4,
 "nbformat_minor": 5
}
